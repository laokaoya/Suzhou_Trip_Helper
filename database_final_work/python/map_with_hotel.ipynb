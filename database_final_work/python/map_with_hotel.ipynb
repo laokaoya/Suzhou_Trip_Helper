{
 "cells": [
  {
   "cell_type": "code",
   "execution_count": 1,
   "id": "9cafa04e-6f7d-4604-80a3-d0c9ccc94e01",
   "metadata": {},
   "outputs": [
    {
     "name": "stderr",
     "output_type": "stream",
     "text": [
      "C:\\Users\\33549\\anaconda3\\Lib\\site-packages\\sklearn\\cluster\\_kmeans.py:1416: FutureWarning: The default value of `n_init` will change from 10 to 'auto' in 1.4. Set the value of `n_init` explicitly to suppress the warning\n",
      "  super()._check_params_vs_input(X, default_n_init=10)\n"
     ]
    }
   ],
   "source": [
    "import pandas as pd\n",
    "import folium\n",
    "from sklearn.cluster import KMeans\n",
    "\n",
    "# 读取数据\n",
    "data = pd.read_csv('loc_information.csv', encoding=\"GBK\")\n",
    "\n",
    "# 提取经纬度数据\n",
    "coordinates = data[['lat', 'lon']]\n",
    "\n",
    "# 使用K均值算法进行聚类\n",
    "kmeans = KMeans(n_clusters=6, random_state=0).fit(coordinates)\n",
    "\n",
    "# 将聚类结果添加到原始数据中\n",
    "data['cluster'] = kmeans.labels_\n",
    "\n",
    "# 创建地图对象\n",
    "m = folium.Map(location=[data['lat'].mean()-0.05, data['lon'].mean()+0.2], zoom_start=10)\n",
    "\n",
    "# 定义颜色列表\n",
    "colors = ['red', 'blue', 'green', 'orange', 'purple', 'black']\n",
    "\n",
    "# 根据聚类结果添加标记\n",
    "for index, row in data.iterrows():\n",
    "    # 根据聚类标签选择颜色\n",
    "    color = colors[row['cluster']]\n",
    "    \n",
    "    folium.Marker([row['lat'], row['lon']], popup=row['location'], icon=folium.Icon(color=color)).add_to(m)\n",
    "\n",
    "\n"
   ]
  },
  {
   "cell_type": "code",
   "execution_count": 3,
   "id": "0ad6787a-3f9e-4a4f-8bff-b942816f3ddb",
   "metadata": {},
   "outputs": [],
   "source": [
    "# 读取start_loc数据\n",
    "start_loc_data = pd.read_csv('start_loc.csv', encoding=\"GBK\")\n",
    "\n",
    "# 定义新的形状和颜色\n",
    "new_shape = 'star'  # Choose any shape you prefer, e.g., 'circle', 'square', 'triangle', 'star', etc.\n",
    "new_color = 'gray'  # Choose any color you prefer\n",
    "\n",
    "# 根据新的位置添加标记\n",
    "for index, row in start_loc_data.iterrows():\n",
    "    folium.Marker([row['lat'], row['lon']], popup=row['location'], icon=folium.Icon(color=new_color, icon=new_shape)).add_to(m)\n",
    "\n",
    "\n",
    "# 读取 hotel.csv 文件\n",
    "    hotel_data = pd.read_csv('restaurant.csv', encoding='GBK')\n",
    "\n",
    "\n",
    "# 遍历 hotel_data 数据框中的每一行，添加酒店标记到地图上\n",
    "for index, row in hotel_data.iterrows():\n",
    "    hotel_name = row['name']\n",
    "    hotel_location = (row['lat'], row['lon'])\n",
    "    \n",
    "    # 使用五角星图标\n",
    "    folium.Marker(location=hotel_location, popup=hotel_name, icon=folium.Icon(icon='star', prefix='fa', color='white')).add_to(m)\n",
    "    # 或者使用旗子图标\n",
    "    # folium.Marker(location=hotel_location, popup=hotel_name, icon=folium.Icon(icon='flag', prefix='fa', color='red')).add_to(m)\n",
    "\n",
    "\n",
    "\n",
    "# 将地图保存为 HTML 文件\n",
    "m.save('hotels_map.html')\n",
    "\n",
    "\n"
   ]
  },
  {
   "cell_type": "code",
   "execution_count": null,
   "id": "f7a66f66-bc97-442a-b7f3-0787ee62e732",
   "metadata": {},
   "outputs": [],
   "source": []
  }
 ],
 "metadata": {
  "kernelspec": {
   "display_name": "Python 3 (ipykernel)",
   "language": "python",
   "name": "python3"
  },
  "language_info": {
   "codemirror_mode": {
    "name": "ipython",
    "version": 3
   },
   "file_extension": ".py",
   "mimetype": "text/x-python",
   "name": "python",
   "nbconvert_exporter": "python",
   "pygments_lexer": "ipython3",
   "version": "3.11.5"
  }
 },
 "nbformat": 4,
 "nbformat_minor": 5
}
